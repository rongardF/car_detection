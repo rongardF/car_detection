{
 "cells": [
  {
   "cell_type": "code",
   "execution_count": 2,
   "metadata": {},
   "outputs": [],
   "source": [
    "# Import the OpenCV library\n",
    "import cv2\n",
    "\n",
    "# Open the default camera (index 0) if you include other like external webcam you can switch (1)\n",
    "cap = cv2.VideoCapture(0)\n",
    "\n",
    "# Set the frame width to 640 pixels\n",
    "cap.set(3, 640)\n",
    "\n",
    "# Set the frame height to 480 pixels\n",
    "cap.set(4, 480)\n",
    "\n",
    "# Infinite loop to continuously capture frames from the camera\n",
    "while True:\n",
    "    # Read a frame from the camera\n",
    "    ret, img = cap.read()\n",
    "\n",
    "    # Display the captured frame in a window named \"Webcam\"\n",
    "    cv2.imshow('Cam', img)\n",
    "\n",
    "    # Wait for a key press for 1 millisecond\n",
    "    # If the pressed key is 'q', exit the loop\n",
    "    if cv2.waitKey(1) == ord('q'):\n",
    "        break\n",
    "\n",
    "# Release the camera\n",
    "cap.release()\n",
    "\n",
    "# Close all OpenCV windows\n",
    "cv2.destroyAllWindows()"
   ]
  }
 ],
 "metadata": {
  "kernelspec": {
   "display_name": ".venv",
   "language": "python",
   "name": "python3"
  },
  "language_info": {
   "codemirror_mode": {
    "name": "ipython",
    "version": 3
   },
   "file_extension": ".py",
   "mimetype": "text/x-python",
   "name": "python",
   "nbconvert_exporter": "python",
   "pygments_lexer": "ipython3",
   "version": "3.10.12"
  }
 },
 "nbformat": 4,
 "nbformat_minor": 2
}
